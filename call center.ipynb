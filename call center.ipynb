{
 "cells": [
  {
   "cell_type": "markdown",
   "metadata": {},
   "source": [
    "# Call Center Dataset Analysis"
   ]
  },
  {
   "cell_type": "code",
   "execution_count": 100,
   "metadata": {},
   "outputs": [],
   "source": [
    "# Importing Libraries\n",
    "import pandas as pd\n",
    "data = pd.read_excel(\"Call-Center-Dataset.xlsx\")"
   ]
  },
  {
   "cell_type": "markdown",
   "metadata": {},
   "source": [
    "*Dataset Overview*"
   ]
  },
  {
   "cell_type": "code",
   "execution_count": 154,
   "metadata": {},
   "outputs": [
    {
     "data": {
      "text/plain": [
       "5000"
      ]
     },
     "execution_count": 154,
     "metadata": {},
     "output_type": "execute_result"
    }
   ],
   "source": [
    "# Total rows in the Dataset\n",
    "data.shape[0]"
   ]
  },
  {
   "cell_type": "code",
   "execution_count": 102,
   "metadata": {},
   "outputs": [
    {
     "name": "stdout",
     "output_type": "stream",
     "text": [
      "The name of columns in the Dataset : \n"
     ]
    },
    {
     "data": {
      "text/plain": [
       "Index(['Call Id', 'Agent', 'Date', 'Time', 'Topic', 'Answered (Y/N)',\n",
       "       'Resolved', 'Speed of answer in seconds', 'AvgTalkDuration',\n",
       "       'Satisfaction rating'],\n",
       "      dtype='object')"
      ]
     },
     "execution_count": 102,
     "metadata": {},
     "output_type": "execute_result"
    }
   ],
   "source": [
    "print('The name of columns in the Dataset : ')\n",
    "data.columns"
   ]
  },
  {
   "cell_type": "code",
   "execution_count": 104,
   "metadata": {},
   "outputs": [
    {
     "name": "stdout",
     "output_type": "stream",
     "text": [
      "<class 'pandas.core.frame.DataFrame'>\n",
      "RangeIndex: 5000 entries, 0 to 4999\n",
      "Data columns (total 10 columns):\n",
      " #   Column                      Non-Null Count  Dtype  \n",
      "---  ------                      --------------  -----  \n",
      " 0   Call Id                     5000 non-null   object \n",
      " 1   Agent                       5000 non-null   object \n",
      " 2   Date                        5000 non-null   object \n",
      " 3   Time                        5000 non-null   object \n",
      " 4   Topic                       5000 non-null   object \n",
      " 5   Answered (Y/N)              5000 non-null   object \n",
      " 6   Resolved                    5000 non-null   object \n",
      " 7   Speed of answer in seconds  4054 non-null   float64\n",
      " 8   AvgTalkDuration             4054 non-null   object \n",
      " 9   Satisfaction rating         4054 non-null   float64\n",
      "dtypes: float64(2), object(8)\n",
      "memory usage: 390.8+ KB\n"
     ]
    }
   ],
   "source": [
    "data.info()"
   ]
  },
  {
   "cell_type": "code",
   "execution_count": 105,
   "metadata": {},
   "outputs": [
    {
     "data": {
      "text/html": [
       "<div>\n",
       "<style scoped>\n",
       "    .dataframe tbody tr th:only-of-type {\n",
       "        vertical-align: middle;\n",
       "    }\n",
       "\n",
       "    .dataframe tbody tr th {\n",
       "        vertical-align: top;\n",
       "    }\n",
       "\n",
       "    .dataframe thead th {\n",
       "        text-align: right;\n",
       "    }\n",
       "</style>\n",
       "<table border=\"1\" class=\"dataframe\">\n",
       "  <thead>\n",
       "    <tr style=\"text-align: right;\">\n",
       "      <th></th>\n",
       "      <th>Call Id</th>\n",
       "      <th>Agent</th>\n",
       "      <th>Date</th>\n",
       "      <th>Time</th>\n",
       "      <th>Topic</th>\n",
       "      <th>Answered (Y/N)</th>\n",
       "      <th>Resolved</th>\n",
       "      <th>Speed of answer in seconds</th>\n",
       "      <th>AvgTalkDuration</th>\n",
       "      <th>Satisfaction rating</th>\n",
       "    </tr>\n",
       "  </thead>\n",
       "  <tbody>\n",
       "    <tr>\n",
       "      <th>0</th>\n",
       "      <td>ID0001</td>\n",
       "      <td>Diane</td>\n",
       "      <td>2021-01-01</td>\n",
       "      <td>09:12:58</td>\n",
       "      <td>Contract related</td>\n",
       "      <td>Y</td>\n",
       "      <td>Y</td>\n",
       "      <td>109.0</td>\n",
       "      <td>00:02:23</td>\n",
       "      <td>3.0</td>\n",
       "    </tr>\n",
       "    <tr>\n",
       "      <th>1</th>\n",
       "      <td>ID0002</td>\n",
       "      <td>Becky</td>\n",
       "      <td>2021-01-01</td>\n",
       "      <td>09:12:58</td>\n",
       "      <td>Technical Support</td>\n",
       "      <td>Y</td>\n",
       "      <td>N</td>\n",
       "      <td>70.0</td>\n",
       "      <td>00:04:02</td>\n",
       "      <td>3.0</td>\n",
       "    </tr>\n",
       "    <tr>\n",
       "      <th>2</th>\n",
       "      <td>ID0003</td>\n",
       "      <td>Stewart</td>\n",
       "      <td>2021-01-01</td>\n",
       "      <td>09:47:31</td>\n",
       "      <td>Contract related</td>\n",
       "      <td>Y</td>\n",
       "      <td>Y</td>\n",
       "      <td>10.0</td>\n",
       "      <td>00:02:11</td>\n",
       "      <td>3.0</td>\n",
       "    </tr>\n",
       "    <tr>\n",
       "      <th>3</th>\n",
       "      <td>ID0004</td>\n",
       "      <td>Greg</td>\n",
       "      <td>2021-01-01</td>\n",
       "      <td>09:47:31</td>\n",
       "      <td>Contract related</td>\n",
       "      <td>Y</td>\n",
       "      <td>Y</td>\n",
       "      <td>53.0</td>\n",
       "      <td>00:00:37</td>\n",
       "      <td>2.0</td>\n",
       "    </tr>\n",
       "    <tr>\n",
       "      <th>4</th>\n",
       "      <td>ID0005</td>\n",
       "      <td>Becky</td>\n",
       "      <td>2021-01-01</td>\n",
       "      <td>10:00:29</td>\n",
       "      <td>Payment related</td>\n",
       "      <td>Y</td>\n",
       "      <td>Y</td>\n",
       "      <td>95.0</td>\n",
       "      <td>00:01:00</td>\n",
       "      <td>3.0</td>\n",
       "    </tr>\n",
       "  </tbody>\n",
       "</table>\n",
       "</div>"
      ],
      "text/plain": [
       "  Call Id    Agent        Date      Time              Topic Answered (Y/N)  \\\n",
       "0  ID0001    Diane  2021-01-01  09:12:58   Contract related              Y   \n",
       "1  ID0002    Becky  2021-01-01  09:12:58  Technical Support              Y   \n",
       "2  ID0003  Stewart  2021-01-01  09:47:31   Contract related              Y   \n",
       "3  ID0004     Greg  2021-01-01  09:47:31   Contract related              Y   \n",
       "4  ID0005    Becky  2021-01-01  10:00:29    Payment related              Y   \n",
       "\n",
       "  Resolved  Speed of answer in seconds AvgTalkDuration  Satisfaction rating  \n",
       "0        Y                       109.0        00:02:23                  3.0  \n",
       "1        N                        70.0        00:04:02                  3.0  \n",
       "2        Y                        10.0        00:02:11                  3.0  \n",
       "3        Y                        53.0        00:00:37                  2.0  \n",
       "4        Y                        95.0        00:01:00                  3.0  "
      ]
     },
     "execution_count": 105,
     "metadata": {},
     "output_type": "execute_result"
    }
   ],
   "source": [
    "data.head(5)"
   ]
  },
  {
   "cell_type": "markdown",
   "metadata": {},
   "source": [
    "## Data Cleaning  and Handling"
   ]
  },
  {
   "cell_type": "markdown",
   "metadata": {},
   "source": [
    "*Duplicates Removal*"
   ]
  },
  {
   "cell_type": "code",
   "execution_count": 106,
   "metadata": {},
   "outputs": [
    {
     "data": {
      "text/plain": [
       "np.int64(0)"
      ]
     },
     "execution_count": 106,
     "metadata": {},
     "output_type": "execute_result"
    }
   ],
   "source": [
    "data.duplicated().sum()"
   ]
  },
  {
   "cell_type": "markdown",
   "metadata": {},
   "source": [
    "*Handling Missing values*"
   ]
  },
  {
   "cell_type": "code",
   "execution_count": 107,
   "metadata": {},
   "outputs": [
    {
     "data": {
      "text/plain": [
       "Call Id                         0\n",
       "Agent                           0\n",
       "Date                            0\n",
       "Time                            0\n",
       "Topic                           0\n",
       "Answered (Y/N)                  0\n",
       "Resolved                        0\n",
       "Speed of answer in seconds    946\n",
       "AvgTalkDuration               946\n",
       "Satisfaction rating           946\n",
       "dtype: int64"
      ]
     },
     "execution_count": 107,
     "metadata": {},
     "output_type": "execute_result"
    }
   ],
   "source": [
    "data.isnull().sum()"
   ]
  },
  {
   "cell_type": "code",
   "execution_count": 108,
   "metadata": {},
   "outputs": [],
   "source": [
    "data['Speed of answer in seconds'] = data['Speed of answer in seconds'].fillna(data['Speed of answer in seconds'].mean())"
   ]
  },
  {
   "cell_type": "code",
   "execution_count": 109,
   "metadata": {},
   "outputs": [],
   "source": [
    "data['AvgTalkDuration'] = data['AvgTalkDuration'].astype(str)\n",
    "data['AvgTalkDuration'] = pd.to_timedelta(data['AvgTalkDuration'])\n",
    "data['AvgTalkDuration'] = data['AvgTalkDuration'].dt.total_seconds() / 60"
   ]
  },
  {
   "cell_type": "code",
   "execution_count": 110,
   "metadata": {},
   "outputs": [],
   "source": [
    "data['AvgTalkDuration'] = data['AvgTalkDuration'].fillna(data['AvgTalkDuration'].mean())\n",
    "data['AvgTalkDuration'] = data['AvgTalkDuration'].round(2)"
   ]
  },
  {
   "cell_type": "code",
   "execution_count": 111,
   "metadata": {},
   "outputs": [],
   "source": [
    "data['Satisfaction rating'] = data['Satisfaction rating'].fillna(data['Satisfaction rating'].mean())\n",
    "data['Satisfaction rating'] = data['Satisfaction rating'].round(2)"
   ]
  },
  {
   "cell_type": "code",
   "execution_count": 112,
   "metadata": {},
   "outputs": [
    {
     "data": {
      "text/plain": [
       "Call Id                       0\n",
       "Agent                         0\n",
       "Date                          0\n",
       "Time                          0\n",
       "Topic                         0\n",
       "Answered (Y/N)                0\n",
       "Resolved                      0\n",
       "Speed of answer in seconds    0\n",
       "AvgTalkDuration               0\n",
       "Satisfaction rating           0\n",
       "dtype: int64"
      ]
     },
     "execution_count": 112,
     "metadata": {},
     "output_type": "execute_result"
    }
   ],
   "source": [
    "data.isnull().sum()"
   ]
  },
  {
   "cell_type": "markdown",
   "metadata": {},
   "source": [
    "*Data Type Conversion*"
   ]
  },
  {
   "cell_type": "code",
   "execution_count": 113,
   "metadata": {},
   "outputs": [
    {
     "data": {
      "text/html": [
       "<div>\n",
       "<style scoped>\n",
       "    .dataframe tbody tr th:only-of-type {\n",
       "        vertical-align: middle;\n",
       "    }\n",
       "\n",
       "    .dataframe tbody tr th {\n",
       "        vertical-align: top;\n",
       "    }\n",
       "\n",
       "    .dataframe thead th {\n",
       "        text-align: right;\n",
       "    }\n",
       "</style>\n",
       "<table border=\"1\" class=\"dataframe\">\n",
       "  <thead>\n",
       "    <tr style=\"text-align: right;\">\n",
       "      <th></th>\n",
       "      <th>Call Id</th>\n",
       "      <th>Agent</th>\n",
       "      <th>Date</th>\n",
       "      <th>Time</th>\n",
       "      <th>Topic</th>\n",
       "      <th>Answered (Y/N)</th>\n",
       "      <th>Resolved</th>\n",
       "      <th>Speed of answer in seconds</th>\n",
       "      <th>AvgTalkDuration</th>\n",
       "      <th>Satisfaction rating</th>\n",
       "    </tr>\n",
       "  </thead>\n",
       "  <tbody>\n",
       "    <tr>\n",
       "      <th>3777</th>\n",
       "      <td>ID3778</td>\n",
       "      <td>Joe</td>\n",
       "      <td>2021-03-07</td>\n",
       "      <td>13:53:46</td>\n",
       "      <td>Technical Support</td>\n",
       "      <td>N</td>\n",
       "      <td>N</td>\n",
       "      <td>67.52072</td>\n",
       "      <td>3.75</td>\n",
       "      <td>3.4</td>\n",
       "    </tr>\n",
       "    <tr>\n",
       "      <th>124</th>\n",
       "      <td>ID0125</td>\n",
       "      <td>Martha</td>\n",
       "      <td>2021-01-03</td>\n",
       "      <td>10:37:55</td>\n",
       "      <td>Technical Support</td>\n",
       "      <td>N</td>\n",
       "      <td>N</td>\n",
       "      <td>67.52072</td>\n",
       "      <td>3.75</td>\n",
       "      <td>3.4</td>\n",
       "    </tr>\n",
       "    <tr>\n",
       "      <th>3044</th>\n",
       "      <td>ID3045</td>\n",
       "      <td>Diane</td>\n",
       "      <td>2021-02-22</td>\n",
       "      <td>17:19:41</td>\n",
       "      <td>Admin Support</td>\n",
       "      <td>Y</td>\n",
       "      <td>Y</td>\n",
       "      <td>38.00000</td>\n",
       "      <td>3.80</td>\n",
       "      <td>3.0</td>\n",
       "    </tr>\n",
       "    <tr>\n",
       "      <th>3359</th>\n",
       "      <td>ID3360</td>\n",
       "      <td>Dan</td>\n",
       "      <td>2021-02-28</td>\n",
       "      <td>13:09:07</td>\n",
       "      <td>Technical Support</td>\n",
       "      <td>Y</td>\n",
       "      <td>Y</td>\n",
       "      <td>65.00000</td>\n",
       "      <td>2.25</td>\n",
       "      <td>5.0</td>\n",
       "    </tr>\n",
       "    <tr>\n",
       "      <th>3041</th>\n",
       "      <td>ID3042</td>\n",
       "      <td>Becky</td>\n",
       "      <td>2021-02-22</td>\n",
       "      <td>17:03:50</td>\n",
       "      <td>Admin Support</td>\n",
       "      <td>N</td>\n",
       "      <td>N</td>\n",
       "      <td>67.52072</td>\n",
       "      <td>3.75</td>\n",
       "      <td>3.4</td>\n",
       "    </tr>\n",
       "  </tbody>\n",
       "</table>\n",
       "</div>"
      ],
      "text/plain": [
       "     Call Id   Agent        Date      Time              Topic Answered (Y/N)  \\\n",
       "3777  ID3778     Joe  2021-03-07  13:53:46  Technical Support              N   \n",
       "124   ID0125  Martha  2021-01-03  10:37:55  Technical Support              N   \n",
       "3044  ID3045   Diane  2021-02-22  17:19:41      Admin Support              Y   \n",
       "3359  ID3360     Dan  2021-02-28  13:09:07  Technical Support              Y   \n",
       "3041  ID3042   Becky  2021-02-22  17:03:50      Admin Support              N   \n",
       "\n",
       "     Resolved  Speed of answer in seconds  AvgTalkDuration  \\\n",
       "3777        N                    67.52072             3.75   \n",
       "124         N                    67.52072             3.75   \n",
       "3044        Y                    38.00000             3.80   \n",
       "3359        Y                    65.00000             2.25   \n",
       "3041        N                    67.52072             3.75   \n",
       "\n",
       "      Satisfaction rating  \n",
       "3777                  3.4  \n",
       "124                   3.4  \n",
       "3044                  3.0  \n",
       "3359                  5.0  \n",
       "3041                  3.4  "
      ]
     },
     "execution_count": 113,
     "metadata": {},
     "output_type": "execute_result"
    }
   ],
   "source": [
    "data.sample(5)"
   ]
  },
  {
   "cell_type": "code",
   "execution_count": 114,
   "metadata": {},
   "outputs": [],
   "source": [
    "data['Speed of answer in seconds'] = pd.to_timedelta(data['Speed of answer in seconds'], unit = 's').dt.total_seconds()\n",
    "data['Speed of answer in seconds'] = data['Speed of answer in seconds'].round(2)"
   ]
  },
  {
   "cell_type": "code",
   "execution_count": 115,
   "metadata": {},
   "outputs": [],
   "source": [
    "data['Date'] = pd.to_datetime(data['Date'])"
   ]
  },
  {
   "cell_type": "code",
   "execution_count": 116,
   "metadata": {},
   "outputs": [
    {
     "data": {
      "text/plain": [
       "dtype('<M8[ns]')"
      ]
     },
     "execution_count": 116,
     "metadata": {},
     "output_type": "execute_result"
    }
   ],
   "source": [
    "data['Time'] = pd.to_datetime(data['Time'], format='%H:%M:%S')\n",
    "data['Time'].dtypes"
   ]
  },
  {
   "cell_type": "code",
   "execution_count": 117,
   "metadata": {},
   "outputs": [
    {
     "data": {
      "text/plain": [
       "Call Id                               object\n",
       "Agent                                 object\n",
       "Date                          datetime64[ns]\n",
       "Time                          datetime64[ns]\n",
       "Topic                                 object\n",
       "Answered (Y/N)                        object\n",
       "Resolved                              object\n",
       "Speed of answer in seconds           float64\n",
       "AvgTalkDuration                      float64\n",
       "Satisfaction rating                  float64\n",
       "dtype: object"
      ]
     },
     "execution_count": 117,
     "metadata": {},
     "output_type": "execute_result"
    }
   ],
   "source": [
    "data.dtypes"
   ]
  },
  {
   "cell_type": "markdown",
   "metadata": {},
   "source": [
    "*Standardizing Formats*"
   ]
  },
  {
   "cell_type": "code",
   "execution_count": 118,
   "metadata": {},
   "outputs": [],
   "source": [
    "data['Answered (Y/N)'] = data['Answered (Y/N)'].replace({'Y':'Yes','N':'No'})"
   ]
  },
  {
   "cell_type": "code",
   "execution_count": 119,
   "metadata": {},
   "outputs": [
    {
     "data": {
      "text/plain": [
       "array(['Y', 'N'], dtype=object)"
      ]
     },
     "execution_count": 119,
     "metadata": {},
     "output_type": "execute_result"
    }
   ],
   "source": [
    "data['Resolved'].unique()"
   ]
  },
  {
   "cell_type": "code",
   "execution_count": 120,
   "metadata": {},
   "outputs": [],
   "source": [
    "data['Resolved'] = data['Resolved'].replace({'Y':'Yes','N':'No'})"
   ]
  },
  {
   "cell_type": "code",
   "execution_count": 121,
   "metadata": {},
   "outputs": [
    {
     "data": {
      "text/html": [
       "<div>\n",
       "<style scoped>\n",
       "    .dataframe tbody tr th:only-of-type {\n",
       "        vertical-align: middle;\n",
       "    }\n",
       "\n",
       "    .dataframe tbody tr th {\n",
       "        vertical-align: top;\n",
       "    }\n",
       "\n",
       "    .dataframe thead th {\n",
       "        text-align: right;\n",
       "    }\n",
       "</style>\n",
       "<table border=\"1\" class=\"dataframe\">\n",
       "  <thead>\n",
       "    <tr style=\"text-align: right;\">\n",
       "      <th></th>\n",
       "      <th>Call Id</th>\n",
       "      <th>Agent</th>\n",
       "      <th>Date</th>\n",
       "      <th>Time</th>\n",
       "      <th>Topic</th>\n",
       "      <th>Answered (Y/N)</th>\n",
       "      <th>Resolved</th>\n",
       "      <th>Speed of answer in seconds</th>\n",
       "      <th>AvgTalkDuration</th>\n",
       "      <th>Satisfaction rating</th>\n",
       "    </tr>\n",
       "  </thead>\n",
       "  <tbody>\n",
       "    <tr>\n",
       "      <th>190</th>\n",
       "      <td>ID0191</td>\n",
       "      <td>Becky</td>\n",
       "      <td>2021-01-04</td>\n",
       "      <td>1900-01-01 11:18:14</td>\n",
       "      <td>Contract related</td>\n",
       "      <td>Yes</td>\n",
       "      <td>Yes</td>\n",
       "      <td>45.00</td>\n",
       "      <td>6.52</td>\n",
       "      <td>5.0</td>\n",
       "    </tr>\n",
       "    <tr>\n",
       "      <th>419</th>\n",
       "      <td>ID0420</td>\n",
       "      <td>Dan</td>\n",
       "      <td>2021-01-08</td>\n",
       "      <td>1900-01-01 12:12:58</td>\n",
       "      <td>Streaming</td>\n",
       "      <td>Yes</td>\n",
       "      <td>Yes</td>\n",
       "      <td>112.00</td>\n",
       "      <td>3.68</td>\n",
       "      <td>2.0</td>\n",
       "    </tr>\n",
       "    <tr>\n",
       "      <th>4180</th>\n",
       "      <td>ID4181</td>\n",
       "      <td>Martha</td>\n",
       "      <td>2021-03-15</td>\n",
       "      <td>1900-01-01 10:13:26</td>\n",
       "      <td>Contract related</td>\n",
       "      <td>Yes</td>\n",
       "      <td>Yes</td>\n",
       "      <td>13.00</td>\n",
       "      <td>3.08</td>\n",
       "      <td>3.0</td>\n",
       "    </tr>\n",
       "    <tr>\n",
       "      <th>4309</th>\n",
       "      <td>ID4310</td>\n",
       "      <td>Dan</td>\n",
       "      <td>2021-03-17</td>\n",
       "      <td>1900-01-01 16:20:38</td>\n",
       "      <td>Streaming</td>\n",
       "      <td>No</td>\n",
       "      <td>No</td>\n",
       "      <td>67.52</td>\n",
       "      <td>3.75</td>\n",
       "      <td>3.4</td>\n",
       "    </tr>\n",
       "    <tr>\n",
       "      <th>2681</th>\n",
       "      <td>ID2682</td>\n",
       "      <td>Jim</td>\n",
       "      <td>2021-02-16</td>\n",
       "      <td>1900-01-01 14:54:14</td>\n",
       "      <td>Admin Support</td>\n",
       "      <td>Yes</td>\n",
       "      <td>Yes</td>\n",
       "      <td>118.00</td>\n",
       "      <td>4.88</td>\n",
       "      <td>4.0</td>\n",
       "    </tr>\n",
       "  </tbody>\n",
       "</table>\n",
       "</div>"
      ],
      "text/plain": [
       "     Call Id   Agent       Date                Time             Topic  \\\n",
       "190   ID0191   Becky 2021-01-04 1900-01-01 11:18:14  Contract related   \n",
       "419   ID0420     Dan 2021-01-08 1900-01-01 12:12:58         Streaming   \n",
       "4180  ID4181  Martha 2021-03-15 1900-01-01 10:13:26  Contract related   \n",
       "4309  ID4310     Dan 2021-03-17 1900-01-01 16:20:38         Streaming   \n",
       "2681  ID2682     Jim 2021-02-16 1900-01-01 14:54:14     Admin Support   \n",
       "\n",
       "     Answered (Y/N) Resolved  Speed of answer in seconds  AvgTalkDuration  \\\n",
       "190             Yes      Yes                       45.00             6.52   \n",
       "419             Yes      Yes                      112.00             3.68   \n",
       "4180            Yes      Yes                       13.00             3.08   \n",
       "4309             No       No                       67.52             3.75   \n",
       "2681            Yes      Yes                      118.00             4.88   \n",
       "\n",
       "      Satisfaction rating  \n",
       "190                   5.0  \n",
       "419                   2.0  \n",
       "4180                  3.0  \n",
       "4309                  3.4  \n",
       "2681                  4.0  "
      ]
     },
     "execution_count": 121,
     "metadata": {},
     "output_type": "execute_result"
    }
   ],
   "source": [
    "data.sample(5)"
   ]
  },
  {
   "cell_type": "markdown",
   "metadata": {},
   "source": [
    "## Data Aggregation"
   ]
  },
  {
   "cell_type": "code",
   "execution_count": 122,
   "metadata": {},
   "outputs": [
    {
     "data": {
      "text/html": [
       "<div>\n",
       "<style scoped>\n",
       "    .dataframe tbody tr th:only-of-type {\n",
       "        vertical-align: middle;\n",
       "    }\n",
       "\n",
       "    .dataframe tbody tr th {\n",
       "        vertical-align: top;\n",
       "    }\n",
       "\n",
       "    .dataframe thead th {\n",
       "        text-align: right;\n",
       "    }\n",
       "</style>\n",
       "<table border=\"1\" class=\"dataframe\">\n",
       "  <thead>\n",
       "    <tr style=\"text-align: right;\">\n",
       "      <th></th>\n",
       "      <th>Speed of answer in seconds</th>\n",
       "      <th>AvgTalkDuration</th>\n",
       "      <th>Satisfaction rating</th>\n",
       "    </tr>\n",
       "    <tr>\n",
       "      <th>Agent</th>\n",
       "      <th></th>\n",
       "      <th></th>\n",
       "      <th></th>\n",
       "    </tr>\n",
       "  </thead>\n",
       "  <tbody>\n",
       "    <tr>\n",
       "      <th>Becky</th>\n",
       "      <td>65.726276</td>\n",
       "      <td>3.681807</td>\n",
       "      <td>3.376545</td>\n",
       "    </tr>\n",
       "    <tr>\n",
       "      <th>Dan</th>\n",
       "      <td>67.324171</td>\n",
       "      <td>3.835292</td>\n",
       "      <td>3.439179</td>\n",
       "    </tr>\n",
       "    <tr>\n",
       "      <th>Diane</th>\n",
       "      <td>66.528657</td>\n",
       "      <td>3.670332</td>\n",
       "      <td>3.404107</td>\n",
       "    </tr>\n",
       "    <tr>\n",
       "      <th>Greg</th>\n",
       "      <td>68.263526</td>\n",
       "      <td>3.774054</td>\n",
       "      <td>3.403526</td>\n",
       "    </tr>\n",
       "    <tr>\n",
       "      <th>Jim</th>\n",
       "      <td>66.572973</td>\n",
       "      <td>3.791862</td>\n",
       "      <td>3.394895</td>\n",
       "    </tr>\n",
       "    <tr>\n",
       "      <th>Joe</th>\n",
       "      <td>70.350219</td>\n",
       "      <td>3.737892</td>\n",
       "      <td>3.343339</td>\n",
       "    </tr>\n",
       "    <tr>\n",
       "      <th>Martha</th>\n",
       "      <td>69.105768</td>\n",
       "      <td>3.732978</td>\n",
       "      <td>3.457053</td>\n",
       "    </tr>\n",
       "    <tr>\n",
       "      <th>Stewart</th>\n",
       "      <td>66.425430</td>\n",
       "      <td>3.766701</td>\n",
       "      <td>3.400344</td>\n",
       "    </tr>\n",
       "  </tbody>\n",
       "</table>\n",
       "</div>"
      ],
      "text/plain": [
       "         Speed of answer in seconds  AvgTalkDuration  Satisfaction rating\n",
       "Agent                                                                    \n",
       "Becky                     65.726276         3.681807             3.376545\n",
       "Dan                       67.324171         3.835292             3.439179\n",
       "Diane                     66.528657         3.670332             3.404107\n",
       "Greg                      68.263526         3.774054             3.403526\n",
       "Jim                       66.572973         3.791862             3.394895\n",
       "Joe                       70.350219         3.737892             3.343339\n",
       "Martha                    69.105768         3.732978             3.457053\n",
       "Stewart                   66.425430         3.766701             3.400344"
      ]
     },
     "execution_count": 122,
     "metadata": {},
     "output_type": "execute_result"
    }
   ],
   "source": [
    "data.groupby('Agent')[['Speed of answer in seconds','AvgTalkDuration','Satisfaction rating']].mean()"
   ]
  },
  {
   "cell_type": "code",
   "execution_count": 123,
   "metadata": {},
   "outputs": [
    {
     "data": {
      "text/plain": [
       "Topic\n",
       "Admin Support         976\n",
       "Contract related      976\n",
       "Payment related      1007\n",
       "Streaming            1022\n",
       "Technical Support    1019\n",
       "Name: Answered (Y/N), dtype: int64"
      ]
     },
     "execution_count": 123,
     "metadata": {},
     "output_type": "execute_result"
    }
   ],
   "source": [
    "data.groupby('Topic')['Answered (Y/N)'].count()"
   ]
  },
  {
   "cell_type": "code",
   "execution_count": 124,
   "metadata": {},
   "outputs": [
    {
     "name": "stdout",
     "output_type": "stream",
     "text": [
      "The maximum number of calls in the dataset :  666\n"
     ]
    }
   ],
   "source": [
    "call_count = data.groupby('Agent')['Call Id']\n",
    "print('The maximum number of calls in the dataset : ',call_count.count().max())"
   ]
  },
  {
   "cell_type": "code",
   "execution_count": 125,
   "metadata": {},
   "outputs": [
    {
     "name": "stdout",
     "output_type": "stream",
     "text": [
      "The maximum number of calls in the dataset :  582\n"
     ]
    }
   ],
   "source": [
    "print('The maximum number of calls in the dataset : ',call_count.count().min())"
   ]
  },
  {
   "cell_type": "code",
   "execution_count": 126,
   "metadata": {},
   "outputs": [
    {
     "name": "stdout",
     "output_type": "stream",
     "text": [
      "The minimum time taken for a agent call :  1900-01-01 18:00:00  minutes\n"
     ]
    }
   ],
   "source": [
    "print('The minimum time taken for a agent call : ',data['Time'].max(),' minutes')"
   ]
  },
  {
   "cell_type": "code",
   "execution_count": 127,
   "metadata": {},
   "outputs": [
    {
     "name": "stdout",
     "output_type": "stream",
     "text": [
      "The minimum time taken for a agent call :  1900-01-01 09:00:00  minutes\n"
     ]
    }
   ],
   "source": [
    "print('The minimum time taken for a agent call : ',data['Time'].min(),' minutes')"
   ]
  },
  {
   "cell_type": "code",
   "execution_count": 128,
   "metadata": {},
   "outputs": [
    {
     "name": "stdout",
     "output_type": "stream",
     "text": [
      "The Average satisfaction rating for each agent : \n"
     ]
    },
    {
     "data": {
      "text/plain": [
       "Topic\n",
       "Admin Support         976\n",
       "Contract related      976\n",
       "Payment related      1007\n",
       "Streaming            1022\n",
       "Technical Support    1019\n",
       "Name: Call Id, dtype: int64"
      ]
     },
     "execution_count": 128,
     "metadata": {},
     "output_type": "execute_result"
    }
   ],
   "source": [
    "print('The Average satisfaction rating for each agent : ')\n",
    "data.groupby('Topic')['Call Id'].count().round(2)"
   ]
  },
  {
   "cell_type": "markdown",
   "metadata": {},
   "source": [
    "*Reshaping Data*"
   ]
  },
  {
   "cell_type": "code",
   "execution_count": 129,
   "metadata": {},
   "outputs": [],
   "source": [
    "import numpy as np"
   ]
  },
  {
   "cell_type": "code",
   "execution_count": 130,
   "metadata": {},
   "outputs": [
    {
     "name": "stderr",
     "output_type": "stream",
     "text": [
      "C:\\Users\\Pavan Gowda R\\AppData\\Local\\Temp\\ipykernel_3556\\1382496720.py:1: FutureWarning: Downcasting behavior in `replace` is deprecated and will be removed in a future version. To retain the old behavior, explicitly call `result.infer_objects(copy=False)`. To opt-in to the future behavior, set `pd.set_option('future.no_silent_downcasting', True)`\n",
      "  data['Answered (Y/N)'] = data['Answered (Y/N)'].replace({'Yes':1,'No':0})\n",
      "C:\\Users\\Pavan Gowda R\\AppData\\Local\\Temp\\ipykernel_3556\\1382496720.py:2: FutureWarning: Downcasting behavior in `replace` is deprecated and will be removed in a future version. To retain the old behavior, explicitly call `result.infer_objects(copy=False)`. To opt-in to the future behavior, set `pd.set_option('future.no_silent_downcasting', True)`\n",
      "  data['Resolved'] = data['Resolved'].replace({'Yes':1,'No':0})\n"
     ]
    }
   ],
   "source": [
    "data['Answered (Y/N)'] = data['Answered (Y/N)'].replace({'Yes':1,'No':0})\n",
    "data['Resolved'] = data['Resolved'].replace({'Yes':1,'No':0})"
   ]
  },
  {
   "cell_type": "code",
   "execution_count": 131,
   "metadata": {},
   "outputs": [
    {
     "name": "stderr",
     "output_type": "stream",
     "text": [
      "C:\\Users\\Pavan Gowda R\\AppData\\Local\\Temp\\ipykernel_3556\\3079751016.py:1: FutureWarning: The provided callable <function sum at 0x00000219D2650540> is currently using DataFrameGroupBy.sum. In a future version of pandas, the provided callable will be used directly. To keep current behavior pass the string \"sum\" instead.\n",
      "  data.pivot_table(index = ['Agent'], columns = ['Topic'], values = ['Answered (Y/N)','Resolved'], aggfunc = np.sum)\n"
     ]
    },
    {
     "data": {
      "text/html": [
       "<div>\n",
       "<style scoped>\n",
       "    .dataframe tbody tr th:only-of-type {\n",
       "        vertical-align: middle;\n",
       "    }\n",
       "\n",
       "    .dataframe tbody tr th {\n",
       "        vertical-align: top;\n",
       "    }\n",
       "\n",
       "    .dataframe thead tr th {\n",
       "        text-align: left;\n",
       "    }\n",
       "\n",
       "    .dataframe thead tr:last-of-type th {\n",
       "        text-align: right;\n",
       "    }\n",
       "</style>\n",
       "<table border=\"1\" class=\"dataframe\">\n",
       "  <thead>\n",
       "    <tr>\n",
       "      <th></th>\n",
       "      <th colspan=\"5\" halign=\"left\">Answered (Y/N)</th>\n",
       "      <th colspan=\"5\" halign=\"left\">Resolved</th>\n",
       "    </tr>\n",
       "    <tr>\n",
       "      <th>Topic</th>\n",
       "      <th>Admin Support</th>\n",
       "      <th>Contract related</th>\n",
       "      <th>Payment related</th>\n",
       "      <th>Streaming</th>\n",
       "      <th>Technical Support</th>\n",
       "      <th>Admin Support</th>\n",
       "      <th>Contract related</th>\n",
       "      <th>Payment related</th>\n",
       "      <th>Streaming</th>\n",
       "      <th>Technical Support</th>\n",
       "    </tr>\n",
       "    <tr>\n",
       "      <th>Agent</th>\n",
       "      <th></th>\n",
       "      <th></th>\n",
       "      <th></th>\n",
       "      <th></th>\n",
       "      <th></th>\n",
       "      <th></th>\n",
       "      <th></th>\n",
       "      <th></th>\n",
       "      <th></th>\n",
       "      <th></th>\n",
       "    </tr>\n",
       "  </thead>\n",
       "  <tbody>\n",
       "    <tr>\n",
       "      <th>Becky</th>\n",
       "      <td>100</td>\n",
       "      <td>87</td>\n",
       "      <td>112</td>\n",
       "      <td>119</td>\n",
       "      <td>99</td>\n",
       "      <td>90</td>\n",
       "      <td>78</td>\n",
       "      <td>99</td>\n",
       "      <td>105</td>\n",
       "      <td>90</td>\n",
       "    </tr>\n",
       "    <tr>\n",
       "      <th>Dan</th>\n",
       "      <td>87</td>\n",
       "      <td>101</td>\n",
       "      <td>106</td>\n",
       "      <td>114</td>\n",
       "      <td>115</td>\n",
       "      <td>80</td>\n",
       "      <td>91</td>\n",
       "      <td>93</td>\n",
       "      <td>101</td>\n",
       "      <td>106</td>\n",
       "    </tr>\n",
       "    <tr>\n",
       "      <th>Diane</th>\n",
       "      <td>108</td>\n",
       "      <td>92</td>\n",
       "      <td>97</td>\n",
       "      <td>108</td>\n",
       "      <td>96</td>\n",
       "      <td>103</td>\n",
       "      <td>82</td>\n",
       "      <td>85</td>\n",
       "      <td>96</td>\n",
       "      <td>86</td>\n",
       "    </tr>\n",
       "    <tr>\n",
       "      <th>Greg</th>\n",
       "      <td>105</td>\n",
       "      <td>90</td>\n",
       "      <td>106</td>\n",
       "      <td>111</td>\n",
       "      <td>90</td>\n",
       "      <td>94</td>\n",
       "      <td>83</td>\n",
       "      <td>99</td>\n",
       "      <td>100</td>\n",
       "      <td>79</td>\n",
       "    </tr>\n",
       "    <tr>\n",
       "      <th>Jim</th>\n",
       "      <td>116</td>\n",
       "      <td>121</td>\n",
       "      <td>94</td>\n",
       "      <td>102</td>\n",
       "      <td>103</td>\n",
       "      <td>106</td>\n",
       "      <td>110</td>\n",
       "      <td>81</td>\n",
       "      <td>91</td>\n",
       "      <td>97</td>\n",
       "    </tr>\n",
       "    <tr>\n",
       "      <th>Joe</th>\n",
       "      <td>93</td>\n",
       "      <td>84</td>\n",
       "      <td>100</td>\n",
       "      <td>105</td>\n",
       "      <td>102</td>\n",
       "      <td>87</td>\n",
       "      <td>75</td>\n",
       "      <td>91</td>\n",
       "      <td>92</td>\n",
       "      <td>91</td>\n",
       "    </tr>\n",
       "    <tr>\n",
       "      <th>Martha</th>\n",
       "      <td>92</td>\n",
       "      <td>107</td>\n",
       "      <td>108</td>\n",
       "      <td>105</td>\n",
       "      <td>102</td>\n",
       "      <td>83</td>\n",
       "      <td>98</td>\n",
       "      <td>99</td>\n",
       "      <td>87</td>\n",
       "      <td>94</td>\n",
       "    </tr>\n",
       "    <tr>\n",
       "      <th>Stewart</th>\n",
       "      <td>94</td>\n",
       "      <td>107</td>\n",
       "      <td>95</td>\n",
       "      <td>83</td>\n",
       "      <td>98</td>\n",
       "      <td>80</td>\n",
       "      <td>92</td>\n",
       "      <td>82</td>\n",
       "      <td>77</td>\n",
       "      <td>93</td>\n",
       "    </tr>\n",
       "  </tbody>\n",
       "</table>\n",
       "</div>"
      ],
      "text/plain": [
       "        Answered (Y/N)                                             \\\n",
       "Topic    Admin Support Contract related Payment related Streaming   \n",
       "Agent                                                               \n",
       "Becky              100               87             112       119   \n",
       "Dan                 87              101             106       114   \n",
       "Diane              108               92              97       108   \n",
       "Greg               105               90             106       111   \n",
       "Jim                116              121              94       102   \n",
       "Joe                 93               84             100       105   \n",
       "Martha              92              107             108       105   \n",
       "Stewart             94              107              95        83   \n",
       "\n",
       "                               Resolved                                   \\\n",
       "Topic   Technical Support Admin Support Contract related Payment related   \n",
       "Agent                                                                      \n",
       "Becky                  99            90               78              99   \n",
       "Dan                   115            80               91              93   \n",
       "Diane                  96           103               82              85   \n",
       "Greg                   90            94               83              99   \n",
       "Jim                   103           106              110              81   \n",
       "Joe                   102            87               75              91   \n",
       "Martha                102            83               98              99   \n",
       "Stewart                98            80               92              82   \n",
       "\n",
       "                                     \n",
       "Topic   Streaming Technical Support  \n",
       "Agent                                \n",
       "Becky         105                90  \n",
       "Dan           101               106  \n",
       "Diane          96                86  \n",
       "Greg          100                79  \n",
       "Jim            91                97  \n",
       "Joe            92                91  \n",
       "Martha         87                94  \n",
       "Stewart        77                93  "
      ]
     },
     "execution_count": 131,
     "metadata": {},
     "output_type": "execute_result"
    }
   ],
   "source": [
    "data.pivot_table(index = ['Agent'], columns = ['Topic'], values = ['Answered (Y/N)','Resolved'], aggfunc = np.sum)"
   ]
  },
  {
   "cell_type": "markdown",
   "metadata": {},
   "source": [
    "## Metrics"
   ]
  },
  {
   "cell_type": "markdown",
   "metadata": {},
   "source": [
    "*1. Call Handling Efficieny*"
   ]
  },
  {
   "cell_type": "markdown",
   "metadata": {},
   "source": [
    "- *Total Calls Handled = Count of calls answered (Y)*"
   ]
  },
  {
   "cell_type": "code",
   "execution_count": 132,
   "metadata": {},
   "outputs": [
    {
     "name": "stdout",
     "output_type": "stream",
     "text": [
      "The Total Number of calls attended by agents :  4054\n"
     ]
    }
   ],
   "source": [
    "total_calls = data[data['Answered (Y/N)'] == 1].value_counts()\n",
    "print('The Total Number of calls attended by agents : ',total_calls.count())"
   ]
  },
  {
   "cell_type": "markdown",
   "metadata": {},
   "source": [
    "- *Answer Rate (%) = (Calls Answered / Total Calls) * 100*"
   ]
  },
  {
   "cell_type": "code",
   "execution_count": 133,
   "metadata": {},
   "outputs": [
    {
     "name": "stdout",
     "output_type": "stream",
     "text": [
      "The Answer rate in the Call Center Dataset : 81.08%\n"
     ]
    }
   ],
   "source": [
    "total_calls = len(data)\n",
    "calls_answered = data['Answered (Y/N)'].eq(1).sum()\n",
    "answer_rate = ( calls_answered / total_calls ) * 100\n",
    "print(f'The Answer rate in the Call Center Dataset : {answer_rate}%')"
   ]
  },
  {
   "cell_type": "markdown",
   "metadata": {},
   "source": [
    "- *Resolution Rate (%) = (Calls Resolved / Calls Answered) * 100*"
   ]
  },
  {
   "cell_type": "code",
   "execution_count": 134,
   "metadata": {},
   "outputs": [
    {
     "name": "stdout",
     "output_type": "stream",
     "text": [
      "The Resolution rate in the Call Center Dataset : 89.94%\n"
     ]
    }
   ],
   "source": [
    "call_resolved = data['Resolved'].eq(1).sum()\n",
    "resolution_rate = ( call_resolved / calls_answered ) * 100\n",
    "print(f'The Resolution rate in the Call Center Dataset : {resolution_rate.round(2)}%')"
   ]
  },
  {
   "cell_type": "markdown",
   "metadata": {},
   "source": [
    "- *Average Speed of Answer (ASA) = Mean of \"Speed of Answer in seconds\"*"
   ]
  },
  {
   "cell_type": "code",
   "execution_count": 147,
   "metadata": {},
   "outputs": [
    {
     "name": "stdout",
     "output_type": "stream",
     "text": [
      "The Average Speed of answer for calls is : 67.52%\n"
     ]
    }
   ],
   "source": [
    "avg_speed_of_answer = data['Speed of answer in seconds'].mean().round(2)\n",
    "print(f'The Average Speed of answer for calls is : {avg_speed_of_answer}%')"
   ]
  },
  {
   "cell_type": "markdown",
   "metadata": {},
   "source": [
    "- *Abandonment Rate (%) = [(Total Calls - Answered Calls) / Total Calls] * 100*"
   ]
  },
  {
   "cell_type": "code",
   "execution_count": 136,
   "metadata": {},
   "outputs": [
    {
     "name": "stdout",
     "output_type": "stream",
     "text": [
      "The Abandment rate in the Call Center Dataset is : 18.92%\n"
     ]
    }
   ],
   "source": [
    "abandment_rate =  ( total_calls - calls_answered ) / total_calls  * 100\n",
    "print(f'The Abandment rate in the Call Center Dataset is : {abandment_rate}%')"
   ]
  },
  {
   "cell_type": "markdown",
   "metadata": {},
   "source": [
    "*2. Agent Performance*"
   ]
  },
  {
   "cell_type": "markdown",
   "metadata": {},
   "source": [
    "- *Agent Workload = Calls handled per agent*"
   ]
  },
  {
   "cell_type": "code",
   "execution_count": 137,
   "metadata": {},
   "outputs": [
    {
     "name": "stdout",
     "output_type": "stream",
     "text": [
      "Calls Handled per agent : \n",
      "1. Becky have handled 631 calls.\n",
      "2. Dan have handled 633 calls.\n",
      "3. Diane have handled 633 calls.\n",
      "4. Greg have handled 624 calls.\n",
      "5. Jim have handled 666 calls.\n",
      "6. Joe have handled 593 calls.\n",
      "7. Martha have handled 638 calls.\n",
      "8. Stewart have handled 582 calls.\n"
     ]
    }
   ],
   "source": [
    "agent_workload = data.groupby('Agent')['Call Id'].count()\n",
    "\n",
    "print('Calls Handled per agent : ')\n",
    "for i, (agent_name, handled_calls) in enumerate(agent_workload.items()):\n",
    "    print(f\"{i+1}. {agent_name} have handled {handled_calls} calls.\")"
   ]
  },
  {
   "cell_type": "markdown",
   "metadata": {},
   "source": [
    "- *Average Talk Duration = Mean of \"AvgTalkDuration\"*"
   ]
  },
  {
   "cell_type": "code",
   "execution_count": 148,
   "metadata": {},
   "outputs": [
    {
     "name": "stdout",
     "output_type": "stream",
     "text": [
      "The Average Call Duration is : 3.75\n"
     ]
    }
   ],
   "source": [
    "avg_talk_duration = data['AvgTalkDuration'].mean().round(2)\n",
    "print(f'The Average Call Duration is : {avg_talk_duration}')"
   ]
  },
  {
   "cell_type": "markdown",
   "metadata": {},
   "source": [
    "- *First Call Resolution (FCR) Rate = (Calls Resolved on First Attempt / Total Calls Answered) * 100*"
   ]
  },
  {
   "cell_type": "code",
   "execution_count": 139,
   "metadata": {},
   "outputs": [
    {
     "name": "stdout",
     "output_type": "stream",
     "text": [
      "The First Call Resolution (FCR) rate is : 100.0%\n"
     ]
    }
   ],
   "source": [
    "unique_calls = data['Call Id'].nunique()\n",
    "first_call_resolution_rate = ( unique_calls / total_calls ) * 100\n",
    "print(f'The First Call Resolution (FCR) rate is : {first_call_resolution_rate}%')"
   ]
  },
  {
   "cell_type": "markdown",
   "metadata": {},
   "source": [
    "- *Satisfaction Score per Agent = Avg. \"Satisfaction rating\" per agent*"
   ]
  },
  {
   "cell_type": "code",
   "execution_count": 149,
   "metadata": {},
   "outputs": [
    {
     "name": "stdout",
     "output_type": "stream",
     "text": [
      "Average satisfaction per agent : \n",
      "1. Becky's Average Satisfaction rate : 3.38 calls.\n",
      "2. Dan's Average Satisfaction rate : 3.44 calls.\n",
      "3. Diane's Average Satisfaction rate : 3.4 calls.\n",
      "4. Greg's Average Satisfaction rate : 3.4 calls.\n",
      "5. Jim's Average Satisfaction rate : 3.39 calls.\n",
      "6. Joe's Average Satisfaction rate : 3.34 calls.\n",
      "7. Martha's Average Satisfaction rate : 3.46 calls.\n",
      "8. Stewart's Average Satisfaction rate : 3.4 calls.\n"
     ]
    }
   ],
   "source": [
    "agent_satisfaction_per_agent = data.groupby('Agent')['Satisfaction rating'].mean().round(2)\n",
    "\n",
    "print('Average satisfaction per agent : ')\n",
    "for i, (agent_name, handled_calls) in enumerate(agent_satisfaction_per_agent.items()):\n",
    "    print(f\"{i+1}. {agent_name}'s Average Satisfaction rate : {handled_calls} calls.\")"
   ]
  },
  {
   "cell_type": "markdown",
   "metadata": {},
   "source": [
    "- *Calls Handled per Hour = (Total Calls Handled by Agent / Total Work Hours)*"
   ]
  },
  {
   "cell_type": "code",
   "execution_count": 141,
   "metadata": {},
   "outputs": [],
   "source": [
    "data['hour'] = data['Time'].dt.hour \n"
   ]
  },
  {
   "cell_type": "code",
   "execution_count": 151,
   "metadata": {},
   "outputs": [
    {
     "name": "stdout",
     "output_type": "stream",
     "text": [
      "Call handled per hour : \n",
      "1. Becky have handled per hour : 8301 calls.\n",
      "2. Dan have handled per hour : 8256 calls.\n",
      "3. Diane have handled per hour : 8283 calls.\n",
      "4. Greg have handled per hour : 8093 calls.\n",
      "5. Jim have handled per hour : 8706 calls.\n",
      "6. Joe have handled per hour : 7696 calls.\n",
      "7. Martha have handled per hour : 8202 calls.\n",
      "8. Stewart have handled per hour : 7622 calls.\n"
     ]
    }
   ],
   "source": [
    "call_agent_per_hour = data.groupby('Agent')['hour'].sum()\n",
    "\n",
    "print('Call handled per hour : ')\n",
    "for i, (agent_name, handled_calls) in enumerate(call_agent_per_hour.items()):\n",
    "    print(f\"{i+1}. {agent_name} have handled per hour : {handled_calls} calls.\")"
   ]
  },
  {
   "cell_type": "markdown",
   "metadata": {},
   "source": [
    "*3. Customer Satisfaction*"
   ]
  },
  {
   "cell_type": "markdown",
   "metadata": {},
   "source": [
    "- *Customer Satisfaction Score (CSAT) = Average \"Satisfaction rating\"*"
   ]
  },
  {
   "cell_type": "code",
   "execution_count": 152,
   "metadata": {},
   "outputs": [
    {
     "name": "stdout",
     "output_type": "stream",
     "text": [
      "The Customer Average Satisfaction rate is : 3.4\n"
     ]
    }
   ],
   "source": [
    "customer_satisfaction_rate = data['Satisfaction rating'].mean().round(2)\n",
    "print(f'The Customer Average Satisfaction rate is : {customer_satisfaction_rate}')"
   ]
  },
  {
   "cell_type": "markdown",
   "metadata": {},
   "source": [
    "- *Call Abandonment Impact = Correlation between \"Speed of answer\" and \"Abandonment rate\"*"
   ]
  },
  {
   "cell_type": "code",
   "execution_count": 144,
   "metadata": {},
   "outputs": [],
   "source": [
    "import seaborn as sns\n",
    "import matplotlib.pyplot as plt"
   ]
  },
  {
   "cell_type": "code",
   "execution_count": 145,
   "metadata": {},
   "outputs": [
    {
     "data": {
      "text/plain": [
       "'correlation = data[\\'Speed of answer in seconds\\'].corr(data[\\'Abandonment_Rate\\'])\\nprint(f\"Correlation between Speed of Answer and Abandonment Rate: {correlation:.2f}\")\\n\\n# Scatter Plot with Regression Line\\nplt.figure(figsize=(8, 5))\\nsns.regplot(x=data[\\'Speed of answer in seconds\\'], y=data[\\'Abandonment_Rate\\'])\\nplt.xlabel(\"Speed of Answer (Seconds)\")\\nplt.ylabel(\"Abandonment Rate (%)\")\\nplt.title(f\"Call Abandonment Impact (Correlation = {correlation:.2f})\")\\nplt.show()\\n'"
      ]
     },
     "execution_count": 145,
     "metadata": {},
     "output_type": "execute_result"
    }
   ],
   "source": [
    "\"\"\"correlation = data['Speed of answer in seconds'].corr(data['Abandonment_Rate'])\n",
    "print(f\"Correlation between Speed of Answer and Abandonment Rate: {correlation:.2f}\")\n",
    "\n",
    "# Scatter Plot with Regression Line\n",
    "plt.figure(figsize=(8, 5))\n",
    "sns.regplot(x=data['Speed of answer in seconds'], y=data['Abandonment_Rate'])\n",
    "plt.xlabel(\"Speed of Answer (Seconds)\")\n",
    "plt.ylabel(\"Abandonment Rate (%)\")\n",
    "plt.title(f\"Call Abandonment Impact (Correlation = {correlation:.2f})\")\n",
    "plt.show()\n",
    "\"\"\""
   ]
  },
  {
   "cell_type": "markdown",
   "metadata": {},
   "source": [
    "- *Wait Time vs. Satisfaction = Analysis of how \"Speed of Answer\" affects \"Satisfaction rating\"*"
   ]
  },
  {
   "cell_type": "code",
   "execution_count": 153,
   "metadata": {},
   "outputs": [
    {
     "name": "stdout",
     "output_type": "stream",
     "text": [
      "Correlation between Speed of Answer and Satisfaction Rating: 0.00\n"
     ]
    }
   ],
   "source": [
    "data['Satisfaction rating'] = data['Satisfaction rating'].astype(float)\n",
    "\n",
    "# Correlation\n",
    "correlation = data['Speed of answer in seconds'].corr(data['Satisfaction rating'])\n",
    "print(f\"Correlation between Speed of Answer and Satisfaction Rating: {correlation:.2f}\")"
   ]
  },
  {
   "cell_type": "markdown",
   "metadata": {},
   "source": [
    "*4. Time-Based Analysis*"
   ]
  },
  {
   "cell_type": "markdown",
   "metadata": {},
   "source": [
    "- *Peak Call Hours = Time slots with the highest number of calls*\n",
    "- *Daily/Weekly Trends = Calls answered, resolution rate, and satisfaction trends over time*\n",
    "- *Seasonality Analysis = Identifying trends in call volume based on specific months, days, or holidays*"
   ]
  },
  {
   "cell_type": "markdown",
   "metadata": {},
   "source": []
  }
 ],
 "metadata": {
  "kernelspec": {
   "display_name": "Python 3",
   "language": "python",
   "name": "python3"
  },
  "language_info": {
   "codemirror_mode": {
    "name": "ipython",
    "version": 3
   },
   "file_extension": ".py",
   "mimetype": "text/x-python",
   "name": "python",
   "nbconvert_exporter": "python",
   "pygments_lexer": "ipython3",
   "version": "3.13.1"
  }
 },
 "nbformat": 4,
 "nbformat_minor": 2
}
