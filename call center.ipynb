{
 "cells": [
  {
   "cell_type": "code",
   "execution_count": 61,
   "metadata": {},
   "outputs": [],
   "source": [
    "import pandas as pd\n",
    "data = pd.read_excel(\"Call-Center-Dataset.xlsx\")"
   ]
  },
  {
   "cell_type": "code",
   "execution_count": 62,
   "metadata": {},
   "outputs": [
    {
     "data": {
      "text/plain": [
       "(5000, 10)"
      ]
     },
     "execution_count": 62,
     "metadata": {},
     "output_type": "execute_result"
    }
   ],
   "source": [
    "data.shape"
   ]
  },
  {
   "cell_type": "code",
   "execution_count": 63,
   "metadata": {},
   "outputs": [
    {
     "data": {
      "text/plain": [
       "Index(['Call Id', 'Agent', 'Date', 'Time', 'Topic', 'Answered (Y/N)',\n",
       "       'Resolved', 'Speed of answer in seconds', 'AvgTalkDuration',\n",
       "       'Satisfaction rating'],\n",
       "      dtype='object')"
      ]
     },
     "execution_count": 63,
     "metadata": {},
     "output_type": "execute_result"
    }
   ],
   "source": [
    "data.columns"
   ]
  },
  {
   "cell_type": "code",
   "execution_count": 64,
   "metadata": {},
   "outputs": [
    {
     "data": {
      "text/plain": [
       "np.int64(5000)"
      ]
     },
     "execution_count": 64,
     "metadata": {},
     "output_type": "execute_result"
    }
   ],
   "source": [
    "data.index.value_counts().sum()"
   ]
  },
  {
   "cell_type": "code",
   "execution_count": 65,
   "metadata": {},
   "outputs": [
    {
     "name": "stdout",
     "output_type": "stream",
     "text": [
      "<class 'pandas.core.frame.DataFrame'>\n",
      "RangeIndex: 5000 entries, 0 to 4999\n",
      "Data columns (total 10 columns):\n",
      " #   Column                      Non-Null Count  Dtype  \n",
      "---  ------                      --------------  -----  \n",
      " 0   Call Id                     5000 non-null   object \n",
      " 1   Agent                       5000 non-null   object \n",
      " 2   Date                        5000 non-null   object \n",
      " 3   Time                        5000 non-null   object \n",
      " 4   Topic                       5000 non-null   object \n",
      " 5   Answered (Y/N)              5000 non-null   object \n",
      " 6   Resolved                    5000 non-null   object \n",
      " 7   Speed of answer in seconds  4054 non-null   float64\n",
      " 8   AvgTalkDuration             4054 non-null   object \n",
      " 9   Satisfaction rating         4054 non-null   float64\n",
      "dtypes: float64(2), object(8)\n",
      "memory usage: 390.8+ KB\n"
     ]
    }
   ],
   "source": [
    "data.info()"
   ]
  },
  {
   "cell_type": "code",
   "execution_count": 66,
   "metadata": {},
   "outputs": [
    {
     "data": {
      "text/html": [
       "<div>\n",
       "<style scoped>\n",
       "    .dataframe tbody tr th:only-of-type {\n",
       "        vertical-align: middle;\n",
       "    }\n",
       "\n",
       "    .dataframe tbody tr th {\n",
       "        vertical-align: top;\n",
       "    }\n",
       "\n",
       "    .dataframe thead th {\n",
       "        text-align: right;\n",
       "    }\n",
       "</style>\n",
       "<table border=\"1\" class=\"dataframe\">\n",
       "  <thead>\n",
       "    <tr style=\"text-align: right;\">\n",
       "      <th></th>\n",
       "      <th>Call Id</th>\n",
       "      <th>Agent</th>\n",
       "      <th>Date</th>\n",
       "      <th>Time</th>\n",
       "      <th>Topic</th>\n",
       "      <th>Answered (Y/N)</th>\n",
       "      <th>Resolved</th>\n",
       "      <th>Speed of answer in seconds</th>\n",
       "      <th>AvgTalkDuration</th>\n",
       "      <th>Satisfaction rating</th>\n",
       "    </tr>\n",
       "  </thead>\n",
       "  <tbody>\n",
       "    <tr>\n",
       "      <th>0</th>\n",
       "      <td>ID0001</td>\n",
       "      <td>Diane</td>\n",
       "      <td>2021-01-01</td>\n",
       "      <td>09:12:58</td>\n",
       "      <td>Contract related</td>\n",
       "      <td>Y</td>\n",
       "      <td>Y</td>\n",
       "      <td>109.0</td>\n",
       "      <td>00:02:23</td>\n",
       "      <td>3.0</td>\n",
       "    </tr>\n",
       "    <tr>\n",
       "      <th>1</th>\n",
       "      <td>ID0002</td>\n",
       "      <td>Becky</td>\n",
       "      <td>2021-01-01</td>\n",
       "      <td>09:12:58</td>\n",
       "      <td>Technical Support</td>\n",
       "      <td>Y</td>\n",
       "      <td>N</td>\n",
       "      <td>70.0</td>\n",
       "      <td>00:04:02</td>\n",
       "      <td>3.0</td>\n",
       "    </tr>\n",
       "    <tr>\n",
       "      <th>2</th>\n",
       "      <td>ID0003</td>\n",
       "      <td>Stewart</td>\n",
       "      <td>2021-01-01</td>\n",
       "      <td>09:47:31</td>\n",
       "      <td>Contract related</td>\n",
       "      <td>Y</td>\n",
       "      <td>Y</td>\n",
       "      <td>10.0</td>\n",
       "      <td>00:02:11</td>\n",
       "      <td>3.0</td>\n",
       "    </tr>\n",
       "    <tr>\n",
       "      <th>3</th>\n",
       "      <td>ID0004</td>\n",
       "      <td>Greg</td>\n",
       "      <td>2021-01-01</td>\n",
       "      <td>09:47:31</td>\n",
       "      <td>Contract related</td>\n",
       "      <td>Y</td>\n",
       "      <td>Y</td>\n",
       "      <td>53.0</td>\n",
       "      <td>00:00:37</td>\n",
       "      <td>2.0</td>\n",
       "    </tr>\n",
       "    <tr>\n",
       "      <th>4</th>\n",
       "      <td>ID0005</td>\n",
       "      <td>Becky</td>\n",
       "      <td>2021-01-01</td>\n",
       "      <td>10:00:29</td>\n",
       "      <td>Payment related</td>\n",
       "      <td>Y</td>\n",
       "      <td>Y</td>\n",
       "      <td>95.0</td>\n",
       "      <td>00:01:00</td>\n",
       "      <td>3.0</td>\n",
       "    </tr>\n",
       "  </tbody>\n",
       "</table>\n",
       "</div>"
      ],
      "text/plain": [
       "  Call Id    Agent        Date      Time              Topic Answered (Y/N)  \\\n",
       "0  ID0001    Diane  2021-01-01  09:12:58   Contract related              Y   \n",
       "1  ID0002    Becky  2021-01-01  09:12:58  Technical Support              Y   \n",
       "2  ID0003  Stewart  2021-01-01  09:47:31   Contract related              Y   \n",
       "3  ID0004     Greg  2021-01-01  09:47:31   Contract related              Y   \n",
       "4  ID0005    Becky  2021-01-01  10:00:29    Payment related              Y   \n",
       "\n",
       "  Resolved  Speed of answer in seconds AvgTalkDuration  Satisfaction rating  \n",
       "0        Y                       109.0        00:02:23                  3.0  \n",
       "1        N                        70.0        00:04:02                  3.0  \n",
       "2        Y                        10.0        00:02:11                  3.0  \n",
       "3        Y                        53.0        00:00:37                  2.0  \n",
       "4        Y                        95.0        00:01:00                  3.0  "
      ]
     },
     "execution_count": 66,
     "metadata": {},
     "output_type": "execute_result"
    }
   ],
   "source": [
    "data.head(5)"
   ]
  },
  {
   "cell_type": "markdown",
   "metadata": {},
   "source": [
    "## Data Cleaning  and Handling"
   ]
  },
  {
   "cell_type": "markdown",
   "metadata": {},
   "source": [
    "*Duplicates Removal*"
   ]
  },
  {
   "cell_type": "code",
   "execution_count": 67,
   "metadata": {},
   "outputs": [
    {
     "data": {
      "text/plain": [
       "np.int64(0)"
      ]
     },
     "execution_count": 67,
     "metadata": {},
     "output_type": "execute_result"
    }
   ],
   "source": [
    "data.duplicated().sum()"
   ]
  },
  {
   "cell_type": "markdown",
   "metadata": {},
   "source": [
    "*Handling Missing values*"
   ]
  },
  {
   "cell_type": "code",
   "execution_count": 68,
   "metadata": {},
   "outputs": [
    {
     "data": {
      "text/plain": [
       "Call Id                         0\n",
       "Agent                           0\n",
       "Date                            0\n",
       "Time                            0\n",
       "Topic                           0\n",
       "Answered (Y/N)                  0\n",
       "Resolved                        0\n",
       "Speed of answer in seconds    946\n",
       "AvgTalkDuration               946\n",
       "Satisfaction rating           946\n",
       "dtype: int64"
      ]
     },
     "execution_count": 68,
     "metadata": {},
     "output_type": "execute_result"
    }
   ],
   "source": [
    "data.isnull().sum()"
   ]
  },
  {
   "cell_type": "code",
   "execution_count": 69,
   "metadata": {},
   "outputs": [],
   "source": [
    "data['Speed of answer in seconds'] = data['Speed of answer in seconds'].fillna(data['Speed of answer in seconds'].mean())"
   ]
  },
  {
   "cell_type": "code",
   "execution_count": 70,
   "metadata": {},
   "outputs": [],
   "source": [
    "data['AvgTalkDuration'] = data['AvgTalkDuration'].astype(str)\n",
    "data['AvgTalkDuration'] = pd.to_timedelta(data['AvgTalkDuration'])\n",
    "data['AvgTalkDuration'] = data['AvgTalkDuration'].dt.total_seconds() / 60"
   ]
  },
  {
   "cell_type": "code",
   "execution_count": 71,
   "metadata": {},
   "outputs": [],
   "source": [
    "data['AvgTalkDuration'] = data['AvgTalkDuration'].fillna(data['AvgTalkDuration'].mean())\n",
    "data['AvgTalkDuration'] = data['AvgTalkDuration'].round(2)"
   ]
  },
  {
   "cell_type": "code",
   "execution_count": 72,
   "metadata": {},
   "outputs": [],
   "source": [
    "data['Satisfaction rating'] = data['Satisfaction rating'].fillna(data['Satisfaction rating'].mean())\n",
    "data['Satisfaction rating'] = data['Satisfaction rating'].round(2)"
   ]
  },
  {
   "cell_type": "code",
   "execution_count": 73,
   "metadata": {},
   "outputs": [
    {
     "data": {
      "text/plain": [
       "Call Id                       0\n",
       "Agent                         0\n",
       "Date                          0\n",
       "Time                          0\n",
       "Topic                         0\n",
       "Answered (Y/N)                0\n",
       "Resolved                      0\n",
       "Speed of answer in seconds    0\n",
       "AvgTalkDuration               0\n",
       "Satisfaction rating           0\n",
       "dtype: int64"
      ]
     },
     "execution_count": 73,
     "metadata": {},
     "output_type": "execute_result"
    }
   ],
   "source": [
    "data.isnull().sum()"
   ]
  },
  {
   "cell_type": "markdown",
   "metadata": {},
   "source": [
    "*Data Type Conversion*"
   ]
  },
  {
   "cell_type": "code",
   "execution_count": 74,
   "metadata": {},
   "outputs": [
    {
     "data": {
      "text/html": [
       "<div>\n",
       "<style scoped>\n",
       "    .dataframe tbody tr th:only-of-type {\n",
       "        vertical-align: middle;\n",
       "    }\n",
       "\n",
       "    .dataframe tbody tr th {\n",
       "        vertical-align: top;\n",
       "    }\n",
       "\n",
       "    .dataframe thead th {\n",
       "        text-align: right;\n",
       "    }\n",
       "</style>\n",
       "<table border=\"1\" class=\"dataframe\">\n",
       "  <thead>\n",
       "    <tr style=\"text-align: right;\">\n",
       "      <th></th>\n",
       "      <th>Call Id</th>\n",
       "      <th>Agent</th>\n",
       "      <th>Date</th>\n",
       "      <th>Time</th>\n",
       "      <th>Topic</th>\n",
       "      <th>Answered (Y/N)</th>\n",
       "      <th>Resolved</th>\n",
       "      <th>Speed of answer in seconds</th>\n",
       "      <th>AvgTalkDuration</th>\n",
       "      <th>Satisfaction rating</th>\n",
       "    </tr>\n",
       "  </thead>\n",
       "  <tbody>\n",
       "    <tr>\n",
       "      <th>3460</th>\n",
       "      <td>ID3461</td>\n",
       "      <td>Martha</td>\n",
       "      <td>2021-03-02</td>\n",
       "      <td>10:29:17</td>\n",
       "      <td>Payment related</td>\n",
       "      <td>Y</td>\n",
       "      <td>Y</td>\n",
       "      <td>86.00000</td>\n",
       "      <td>5.25</td>\n",
       "      <td>5.0</td>\n",
       "    </tr>\n",
       "    <tr>\n",
       "      <th>4708</th>\n",
       "      <td>ID4709</td>\n",
       "      <td>Greg</td>\n",
       "      <td>2021-03-25</td>\n",
       "      <td>11:44:10</td>\n",
       "      <td>Streaming</td>\n",
       "      <td>Y</td>\n",
       "      <td>Y</td>\n",
       "      <td>83.00000</td>\n",
       "      <td>6.18</td>\n",
       "      <td>4.0</td>\n",
       "    </tr>\n",
       "    <tr>\n",
       "      <th>466</th>\n",
       "      <td>ID0467</td>\n",
       "      <td>Stewart</td>\n",
       "      <td>2021-01-09</td>\n",
       "      <td>11:25:26</td>\n",
       "      <td>Admin Support</td>\n",
       "      <td>Y</td>\n",
       "      <td>Y</td>\n",
       "      <td>81.00000</td>\n",
       "      <td>2.12</td>\n",
       "      <td>4.0</td>\n",
       "    </tr>\n",
       "    <tr>\n",
       "      <th>2769</th>\n",
       "      <td>ID2770</td>\n",
       "      <td>Jim</td>\n",
       "      <td>2021-02-17</td>\n",
       "      <td>17:11:02</td>\n",
       "      <td>Admin Support</td>\n",
       "      <td>N</td>\n",
       "      <td>N</td>\n",
       "      <td>67.52072</td>\n",
       "      <td>3.75</td>\n",
       "      <td>3.4</td>\n",
       "    </tr>\n",
       "    <tr>\n",
       "      <th>3126</th>\n",
       "      <td>ID3127</td>\n",
       "      <td>Diane</td>\n",
       "      <td>2021-02-24</td>\n",
       "      <td>15:41:46</td>\n",
       "      <td>Technical Support</td>\n",
       "      <td>N</td>\n",
       "      <td>N</td>\n",
       "      <td>67.52072</td>\n",
       "      <td>3.75</td>\n",
       "      <td>3.4</td>\n",
       "    </tr>\n",
       "  </tbody>\n",
       "</table>\n",
       "</div>"
      ],
      "text/plain": [
       "     Call Id    Agent        Date      Time              Topic Answered (Y/N)  \\\n",
       "3460  ID3461   Martha  2021-03-02  10:29:17    Payment related              Y   \n",
       "4708  ID4709     Greg  2021-03-25  11:44:10          Streaming              Y   \n",
       "466   ID0467  Stewart  2021-01-09  11:25:26      Admin Support              Y   \n",
       "2769  ID2770      Jim  2021-02-17  17:11:02      Admin Support              N   \n",
       "3126  ID3127    Diane  2021-02-24  15:41:46  Technical Support              N   \n",
       "\n",
       "     Resolved  Speed of answer in seconds  AvgTalkDuration  \\\n",
       "3460        Y                    86.00000             5.25   \n",
       "4708        Y                    83.00000             6.18   \n",
       "466         Y                    81.00000             2.12   \n",
       "2769        N                    67.52072             3.75   \n",
       "3126        N                    67.52072             3.75   \n",
       "\n",
       "      Satisfaction rating  \n",
       "3460                  5.0  \n",
       "4708                  4.0  \n",
       "466                   4.0  \n",
       "2769                  3.4  \n",
       "3126                  3.4  "
      ]
     },
     "execution_count": 74,
     "metadata": {},
     "output_type": "execute_result"
    }
   ],
   "source": [
    "data.sample(5)"
   ]
  },
  {
   "cell_type": "code",
   "execution_count": 75,
   "metadata": {},
   "outputs": [],
   "source": [
    "data['Speed of answer in seconds'] = pd.to_timedelta(data['Speed of answer in seconds'], unit = 's').dt.total_seconds()\n",
    "data['Speed of answer in seconds'] = data['Speed of answer in seconds'].round(2)"
   ]
  },
  {
   "cell_type": "code",
   "execution_count": 76,
   "metadata": {},
   "outputs": [],
   "source": [
    "data['Date'] = pd.to_datetime(data['Date'])"
   ]
  },
  {
   "cell_type": "code",
   "execution_count": 77,
   "metadata": {},
   "outputs": [],
   "source": [
    "data['Time'] = pd.to_datetime(data['Time'], format = '%H:%M:%S').dt.time"
   ]
  },
  {
   "cell_type": "code",
   "execution_count": 78,
   "metadata": {},
   "outputs": [
    {
     "data": {
      "text/plain": [
       "Call Id                               object\n",
       "Agent                                 object\n",
       "Date                          datetime64[ns]\n",
       "Time                                  object\n",
       "Topic                                 object\n",
       "Answered (Y/N)                        object\n",
       "Resolved                              object\n",
       "Speed of answer in seconds           float64\n",
       "AvgTalkDuration                      float64\n",
       "Satisfaction rating                  float64\n",
       "dtype: object"
      ]
     },
     "execution_count": 78,
     "metadata": {},
     "output_type": "execute_result"
    }
   ],
   "source": [
    "data.dtypes"
   ]
  },
  {
   "cell_type": "markdown",
   "metadata": {},
   "source": [
    "*Standardizing Formats*"
   ]
  },
  {
   "cell_type": "code",
   "execution_count": 79,
   "metadata": {},
   "outputs": [],
   "source": [
    "data['Answered (Y/N)'] = data['Answered (Y/N)'].replace({'Y':'Yes','N':'No'})"
   ]
  },
  {
   "cell_type": "code",
   "execution_count": 80,
   "metadata": {},
   "outputs": [
    {
     "data": {
      "text/plain": [
       "array(['Y', 'N'], dtype=object)"
      ]
     },
     "execution_count": 80,
     "metadata": {},
     "output_type": "execute_result"
    }
   ],
   "source": [
    "data['Resolved'].unique()"
   ]
  },
  {
   "cell_type": "code",
   "execution_count": 81,
   "metadata": {},
   "outputs": [],
   "source": [
    "data['Resolved'] = data['Resolved'].replace({'Y':'Yes','N':'No'})"
   ]
  },
  {
   "cell_type": "code",
   "execution_count": 82,
   "metadata": {},
   "outputs": [
    {
     "data": {
      "text/html": [
       "<div>\n",
       "<style scoped>\n",
       "    .dataframe tbody tr th:only-of-type {\n",
       "        vertical-align: middle;\n",
       "    }\n",
       "\n",
       "    .dataframe tbody tr th {\n",
       "        vertical-align: top;\n",
       "    }\n",
       "\n",
       "    .dataframe thead th {\n",
       "        text-align: right;\n",
       "    }\n",
       "</style>\n",
       "<table border=\"1\" class=\"dataframe\">\n",
       "  <thead>\n",
       "    <tr style=\"text-align: right;\">\n",
       "      <th></th>\n",
       "      <th>Call Id</th>\n",
       "      <th>Agent</th>\n",
       "      <th>Date</th>\n",
       "      <th>Time</th>\n",
       "      <th>Topic</th>\n",
       "      <th>Answered (Y/N)</th>\n",
       "      <th>Resolved</th>\n",
       "      <th>Speed of answer in seconds</th>\n",
       "      <th>AvgTalkDuration</th>\n",
       "      <th>Satisfaction rating</th>\n",
       "    </tr>\n",
       "  </thead>\n",
       "  <tbody>\n",
       "    <tr>\n",
       "      <th>1756</th>\n",
       "      <td>ID1757</td>\n",
       "      <td>Jim</td>\n",
       "      <td>2021-01-31</td>\n",
       "      <td>15:38:53</td>\n",
       "      <td>Streaming</td>\n",
       "      <td>No</td>\n",
       "      <td>No</td>\n",
       "      <td>67.52</td>\n",
       "      <td>3.75</td>\n",
       "      <td>3.4</td>\n",
       "    </tr>\n",
       "    <tr>\n",
       "      <th>2933</th>\n",
       "      <td>ID2934</td>\n",
       "      <td>Greg</td>\n",
       "      <td>2021-02-20</td>\n",
       "      <td>16:16:19</td>\n",
       "      <td>Contract related</td>\n",
       "      <td>Yes</td>\n",
       "      <td>No</td>\n",
       "      <td>85.00</td>\n",
       "      <td>5.23</td>\n",
       "      <td>1.0</td>\n",
       "    </tr>\n",
       "    <tr>\n",
       "      <th>1007</th>\n",
       "      <td>ID1008</td>\n",
       "      <td>Joe</td>\n",
       "      <td>2021-01-18</td>\n",
       "      <td>14:58:34</td>\n",
       "      <td>Technical Support</td>\n",
       "      <td>No</td>\n",
       "      <td>No</td>\n",
       "      <td>67.52</td>\n",
       "      <td>3.75</td>\n",
       "      <td>3.4</td>\n",
       "    </tr>\n",
       "    <tr>\n",
       "      <th>3121</th>\n",
       "      <td>ID3122</td>\n",
       "      <td>Becky</td>\n",
       "      <td>2021-02-24</td>\n",
       "      <td>15:17:17</td>\n",
       "      <td>Contract related</td>\n",
       "      <td>Yes</td>\n",
       "      <td>Yes</td>\n",
       "      <td>92.00</td>\n",
       "      <td>2.73</td>\n",
       "      <td>4.0</td>\n",
       "    </tr>\n",
       "    <tr>\n",
       "      <th>2099</th>\n",
       "      <td>ID2100</td>\n",
       "      <td>Martha</td>\n",
       "      <td>2021-02-06</td>\n",
       "      <td>09:23:02</td>\n",
       "      <td>Streaming</td>\n",
       "      <td>Yes</td>\n",
       "      <td>No</td>\n",
       "      <td>46.00</td>\n",
       "      <td>1.55</td>\n",
       "      <td>5.0</td>\n",
       "    </tr>\n",
       "  </tbody>\n",
       "</table>\n",
       "</div>"
      ],
      "text/plain": [
       "     Call Id   Agent       Date      Time              Topic Answered (Y/N)  \\\n",
       "1756  ID1757     Jim 2021-01-31  15:38:53          Streaming             No   \n",
       "2933  ID2934    Greg 2021-02-20  16:16:19   Contract related            Yes   \n",
       "1007  ID1008     Joe 2021-01-18  14:58:34  Technical Support             No   \n",
       "3121  ID3122   Becky 2021-02-24  15:17:17   Contract related            Yes   \n",
       "2099  ID2100  Martha 2021-02-06  09:23:02          Streaming            Yes   \n",
       "\n",
       "     Resolved  Speed of answer in seconds  AvgTalkDuration  \\\n",
       "1756       No                       67.52             3.75   \n",
       "2933       No                       85.00             5.23   \n",
       "1007       No                       67.52             3.75   \n",
       "3121      Yes                       92.00             2.73   \n",
       "2099       No                       46.00             1.55   \n",
       "\n",
       "      Satisfaction rating  \n",
       "1756                  3.4  \n",
       "2933                  1.0  \n",
       "1007                  3.4  \n",
       "3121                  4.0  \n",
       "2099                  5.0  "
      ]
     },
     "execution_count": 82,
     "metadata": {},
     "output_type": "execute_result"
    }
   ],
   "source": [
    "data.sample(5)"
   ]
  },
  {
   "cell_type": "markdown",
   "metadata": {},
   "source": [
    "## Data Aggregation"
   ]
  },
  {
   "cell_type": "code",
   "execution_count": 83,
   "metadata": {},
   "outputs": [
    {
     "name": "stdout",
     "output_type": "stream",
     "text": [
      "The Total Number of calls attended by agents : \n"
     ]
    },
    {
     "data": {
      "text/plain": [
       "Agent\n",
       "Becky      631\n",
       "Dan        633\n",
       "Diane      633\n",
       "Greg       624\n",
       "Jim        666\n",
       "Joe        593\n",
       "Martha     638\n",
       "Stewart    582\n",
       "Name: Call Id, dtype: int64"
      ]
     },
     "execution_count": 83,
     "metadata": {},
     "output_type": "execute_result"
    }
   ],
   "source": [
    "print('The Total Number of calls attended by agents : ')\n",
    "data.groupby('Agent')['Call Id'].count()"
   ]
  },
  {
   "cell_type": "code",
   "execution_count": 84,
   "metadata": {},
   "outputs": [
    {
     "name": "stdout",
     "output_type": "stream",
     "text": [
      "The maximum number of calls in the dataset :  666\n"
     ]
    }
   ],
   "source": [
    "call_count = data.groupby('Agent')['Call Id']\n",
    "print('The maximum number of calls in the dataset : ',call_count.count().max())"
   ]
  },
  {
   "cell_type": "code",
   "execution_count": 85,
   "metadata": {},
   "outputs": [
    {
     "name": "stdout",
     "output_type": "stream",
     "text": [
      "The maximum number of calls in the dataset :  582\n"
     ]
    }
   ],
   "source": [
    "print('The maximum number of calls in the dataset : ',call_count.count().min())"
   ]
  },
  {
   "cell_type": "code",
   "execution_count": 86,
   "metadata": {},
   "outputs": [
    {
     "name": "stdout",
     "output_type": "stream",
     "text": [
      "The minimum time taken for a agent call :  18:00:00  minutes\n"
     ]
    }
   ],
   "source": [
    "print('The minimum time taken for a agent call : ',data['Time'].max(),' minutes')"
   ]
  },
  {
   "cell_type": "code",
   "execution_count": 87,
   "metadata": {},
   "outputs": [
    {
     "name": "stdout",
     "output_type": "stream",
     "text": [
      "The minimum time taken for a agent call :  09:00:00  minutes\n"
     ]
    }
   ],
   "source": [
    "print('The minimum time taken for a agent call : ',data['Time'].min(),' minutes')"
   ]
  },
  {
   "cell_type": "code",
   "execution_count": 88,
   "metadata": {},
   "outputs": [
    {
     "name": "stdout",
     "output_type": "stream",
     "text": [
      "The Average satisfaction rating for each agent : \n"
     ]
    },
    {
     "data": {
      "text/plain": [
       "Topic\n",
       "Admin Support         976\n",
       "Contract related      976\n",
       "Payment related      1007\n",
       "Streaming            1022\n",
       "Technical Support    1019\n",
       "Name: Call Id, dtype: int64"
      ]
     },
     "execution_count": 88,
     "metadata": {},
     "output_type": "execute_result"
    }
   ],
   "source": [
    "print('The Average satisfaction rating for each agent : ')\n",
    "data.groupby('Topic')['Call Id'].count().round(2)"
   ]
  },
  {
   "cell_type": "code",
   "execution_count": 89,
   "metadata": {},
   "outputs": [
    {
     "data": {
      "text/html": [
       "<div>\n",
       "<style scoped>\n",
       "    .dataframe tbody tr th:only-of-type {\n",
       "        vertical-align: middle;\n",
       "    }\n",
       "\n",
       "    .dataframe tbody tr th {\n",
       "        vertical-align: top;\n",
       "    }\n",
       "\n",
       "    .dataframe thead th {\n",
       "        text-align: right;\n",
       "    }\n",
       "</style>\n",
       "<table border=\"1\" class=\"dataframe\">\n",
       "  <thead>\n",
       "    <tr style=\"text-align: right;\">\n",
       "      <th></th>\n",
       "      <th>Speed of answer in seconds</th>\n",
       "      <th>AvgTalkDuration</th>\n",
       "      <th>Satisfaction rating</th>\n",
       "    </tr>\n",
       "    <tr>\n",
       "      <th>Agent</th>\n",
       "      <th></th>\n",
       "      <th></th>\n",
       "      <th></th>\n",
       "    </tr>\n",
       "  </thead>\n",
       "  <tbody>\n",
       "    <tr>\n",
       "      <th>Becky</th>\n",
       "      <td>65.726276</td>\n",
       "      <td>3.681807</td>\n",
       "      <td>3.376545</td>\n",
       "    </tr>\n",
       "    <tr>\n",
       "      <th>Dan</th>\n",
       "      <td>67.324171</td>\n",
       "      <td>3.835292</td>\n",
       "      <td>3.439179</td>\n",
       "    </tr>\n",
       "    <tr>\n",
       "      <th>Diane</th>\n",
       "      <td>66.528657</td>\n",
       "      <td>3.670332</td>\n",
       "      <td>3.404107</td>\n",
       "    </tr>\n",
       "    <tr>\n",
       "      <th>Greg</th>\n",
       "      <td>68.263526</td>\n",
       "      <td>3.774054</td>\n",
       "      <td>3.403526</td>\n",
       "    </tr>\n",
       "    <tr>\n",
       "      <th>Jim</th>\n",
       "      <td>66.572973</td>\n",
       "      <td>3.791862</td>\n",
       "      <td>3.394895</td>\n",
       "    </tr>\n",
       "    <tr>\n",
       "      <th>Joe</th>\n",
       "      <td>70.350219</td>\n",
       "      <td>3.737892</td>\n",
       "      <td>3.343339</td>\n",
       "    </tr>\n",
       "    <tr>\n",
       "      <th>Martha</th>\n",
       "      <td>69.105768</td>\n",
       "      <td>3.732978</td>\n",
       "      <td>3.457053</td>\n",
       "    </tr>\n",
       "    <tr>\n",
       "      <th>Stewart</th>\n",
       "      <td>66.425430</td>\n",
       "      <td>3.766701</td>\n",
       "      <td>3.400344</td>\n",
       "    </tr>\n",
       "  </tbody>\n",
       "</table>\n",
       "</div>"
      ],
      "text/plain": [
       "         Speed of answer in seconds  AvgTalkDuration  Satisfaction rating\n",
       "Agent                                                                    \n",
       "Becky                     65.726276         3.681807             3.376545\n",
       "Dan                       67.324171         3.835292             3.439179\n",
       "Diane                     66.528657         3.670332             3.404107\n",
       "Greg                      68.263526         3.774054             3.403526\n",
       "Jim                       66.572973         3.791862             3.394895\n",
       "Joe                       70.350219         3.737892             3.343339\n",
       "Martha                    69.105768         3.732978             3.457053\n",
       "Stewart                   66.425430         3.766701             3.400344"
      ]
     },
     "execution_count": 89,
     "metadata": {},
     "output_type": "execute_result"
    }
   ],
   "source": [
    "data.groupby('Agent')[['Speed of answer in seconds','AvgTalkDuration','Satisfaction rating']].mean()"
   ]
  },
  {
   "cell_type": "code",
   "execution_count": 90,
   "metadata": {},
   "outputs": [
    {
     "data": {
      "text/plain": [
       "Topic\n",
       "Admin Support         976\n",
       "Contract related      976\n",
       "Payment related      1007\n",
       "Streaming            1022\n",
       "Technical Support    1019\n",
       "Name: Answered (Y/N), dtype: int64"
      ]
     },
     "execution_count": 90,
     "metadata": {},
     "output_type": "execute_result"
    }
   ],
   "source": [
    "data.groupby('Topic')['Answered (Y/N)'].count()"
   ]
  },
  {
   "cell_type": "markdown",
   "metadata": {},
   "source": [
    "*Reshaping Data*"
   ]
  },
  {
   "cell_type": "code",
   "execution_count": 91,
   "metadata": {},
   "outputs": [
    {
     "name": "stderr",
     "output_type": "stream",
     "text": [
      "C:\\Users\\Pavan Gowda R\\AppData\\Local\\Temp\\ipykernel_23052\\1382496720.py:1: FutureWarning: Downcasting behavior in `replace` is deprecated and will be removed in a future version. To retain the old behavior, explicitly call `result.infer_objects(copy=False)`. To opt-in to the future behavior, set `pd.set_option('future.no_silent_downcasting', True)`\n",
      "  data['Answered (Y/N)'] = data['Answered (Y/N)'].replace({'Yes':1,'No':0})\n",
      "C:\\Users\\Pavan Gowda R\\AppData\\Local\\Temp\\ipykernel_23052\\1382496720.py:2: FutureWarning: Downcasting behavior in `replace` is deprecated and will be removed in a future version. To retain the old behavior, explicitly call `result.infer_objects(copy=False)`. To opt-in to the future behavior, set `pd.set_option('future.no_silent_downcasting', True)`\n",
      "  data['Resolved'] = data['Resolved'].replace({'Yes':1,'No':0})\n"
     ]
    }
   ],
   "source": [
    "data['Answered (Y/N)'] = data['Answered (Y/N)'].replace({'Yes':1,'No':0})\n",
    "data['Resolved'] = data['Resolved'].replace({'Yes':1,'No':0})"
   ]
  },
  {
   "cell_type": "code",
   "execution_count": 92,
   "metadata": {},
   "outputs": [
    {
     "name": "stderr",
     "output_type": "stream",
     "text": [
      "C:\\Users\\Pavan Gowda R\\AppData\\Local\\Temp\\ipykernel_23052\\3486182214.py:2: FutureWarning: The provided callable <function sum at 0x00000227D98445E0> is currently using DataFrameGroupBy.sum. In a future version of pandas, the provided callable will be used directly. To keep current behavior pass the string \"sum\" instead.\n",
      "  data.pivot_table(index = ['Agent'], columns = ['Topic'], values = ['Answered (Y/N)','Resolved'], aggfunc = np.sum)\n"
     ]
    },
    {
     "data": {
      "text/html": [
       "<div>\n",
       "<style scoped>\n",
       "    .dataframe tbody tr th:only-of-type {\n",
       "        vertical-align: middle;\n",
       "    }\n",
       "\n",
       "    .dataframe tbody tr th {\n",
       "        vertical-align: top;\n",
       "    }\n",
       "\n",
       "    .dataframe thead tr th {\n",
       "        text-align: left;\n",
       "    }\n",
       "\n",
       "    .dataframe thead tr:last-of-type th {\n",
       "        text-align: right;\n",
       "    }\n",
       "</style>\n",
       "<table border=\"1\" class=\"dataframe\">\n",
       "  <thead>\n",
       "    <tr>\n",
       "      <th></th>\n",
       "      <th colspan=\"5\" halign=\"left\">Answered (Y/N)</th>\n",
       "      <th colspan=\"5\" halign=\"left\">Resolved</th>\n",
       "    </tr>\n",
       "    <tr>\n",
       "      <th>Topic</th>\n",
       "      <th>Admin Support</th>\n",
       "      <th>Contract related</th>\n",
       "      <th>Payment related</th>\n",
       "      <th>Streaming</th>\n",
       "      <th>Technical Support</th>\n",
       "      <th>Admin Support</th>\n",
       "      <th>Contract related</th>\n",
       "      <th>Payment related</th>\n",
       "      <th>Streaming</th>\n",
       "      <th>Technical Support</th>\n",
       "    </tr>\n",
       "    <tr>\n",
       "      <th>Agent</th>\n",
       "      <th></th>\n",
       "      <th></th>\n",
       "      <th></th>\n",
       "      <th></th>\n",
       "      <th></th>\n",
       "      <th></th>\n",
       "      <th></th>\n",
       "      <th></th>\n",
       "      <th></th>\n",
       "      <th></th>\n",
       "    </tr>\n",
       "  </thead>\n",
       "  <tbody>\n",
       "    <tr>\n",
       "      <th>Becky</th>\n",
       "      <td>100</td>\n",
       "      <td>87</td>\n",
       "      <td>112</td>\n",
       "      <td>119</td>\n",
       "      <td>99</td>\n",
       "      <td>90</td>\n",
       "      <td>78</td>\n",
       "      <td>99</td>\n",
       "      <td>105</td>\n",
       "      <td>90</td>\n",
       "    </tr>\n",
       "    <tr>\n",
       "      <th>Dan</th>\n",
       "      <td>87</td>\n",
       "      <td>101</td>\n",
       "      <td>106</td>\n",
       "      <td>114</td>\n",
       "      <td>115</td>\n",
       "      <td>80</td>\n",
       "      <td>91</td>\n",
       "      <td>93</td>\n",
       "      <td>101</td>\n",
       "      <td>106</td>\n",
       "    </tr>\n",
       "    <tr>\n",
       "      <th>Diane</th>\n",
       "      <td>108</td>\n",
       "      <td>92</td>\n",
       "      <td>97</td>\n",
       "      <td>108</td>\n",
       "      <td>96</td>\n",
       "      <td>103</td>\n",
       "      <td>82</td>\n",
       "      <td>85</td>\n",
       "      <td>96</td>\n",
       "      <td>86</td>\n",
       "    </tr>\n",
       "    <tr>\n",
       "      <th>Greg</th>\n",
       "      <td>105</td>\n",
       "      <td>90</td>\n",
       "      <td>106</td>\n",
       "      <td>111</td>\n",
       "      <td>90</td>\n",
       "      <td>94</td>\n",
       "      <td>83</td>\n",
       "      <td>99</td>\n",
       "      <td>100</td>\n",
       "      <td>79</td>\n",
       "    </tr>\n",
       "    <tr>\n",
       "      <th>Jim</th>\n",
       "      <td>116</td>\n",
       "      <td>121</td>\n",
       "      <td>94</td>\n",
       "      <td>102</td>\n",
       "      <td>103</td>\n",
       "      <td>106</td>\n",
       "      <td>110</td>\n",
       "      <td>81</td>\n",
       "      <td>91</td>\n",
       "      <td>97</td>\n",
       "    </tr>\n",
       "    <tr>\n",
       "      <th>Joe</th>\n",
       "      <td>93</td>\n",
       "      <td>84</td>\n",
       "      <td>100</td>\n",
       "      <td>105</td>\n",
       "      <td>102</td>\n",
       "      <td>87</td>\n",
       "      <td>75</td>\n",
       "      <td>91</td>\n",
       "      <td>92</td>\n",
       "      <td>91</td>\n",
       "    </tr>\n",
       "    <tr>\n",
       "      <th>Martha</th>\n",
       "      <td>92</td>\n",
       "      <td>107</td>\n",
       "      <td>108</td>\n",
       "      <td>105</td>\n",
       "      <td>102</td>\n",
       "      <td>83</td>\n",
       "      <td>98</td>\n",
       "      <td>99</td>\n",
       "      <td>87</td>\n",
       "      <td>94</td>\n",
       "    </tr>\n",
       "    <tr>\n",
       "      <th>Stewart</th>\n",
       "      <td>94</td>\n",
       "      <td>107</td>\n",
       "      <td>95</td>\n",
       "      <td>83</td>\n",
       "      <td>98</td>\n",
       "      <td>80</td>\n",
       "      <td>92</td>\n",
       "      <td>82</td>\n",
       "      <td>77</td>\n",
       "      <td>93</td>\n",
       "    </tr>\n",
       "  </tbody>\n",
       "</table>\n",
       "</div>"
      ],
      "text/plain": [
       "        Answered (Y/N)                                             \\\n",
       "Topic    Admin Support Contract related Payment related Streaming   \n",
       "Agent                                                               \n",
       "Becky              100               87             112       119   \n",
       "Dan                 87              101             106       114   \n",
       "Diane              108               92              97       108   \n",
       "Greg               105               90             106       111   \n",
       "Jim                116              121              94       102   \n",
       "Joe                 93               84             100       105   \n",
       "Martha              92              107             108       105   \n",
       "Stewart             94              107              95        83   \n",
       "\n",
       "                               Resolved                                   \\\n",
       "Topic   Technical Support Admin Support Contract related Payment related   \n",
       "Agent                                                                      \n",
       "Becky                  99            90               78              99   \n",
       "Dan                   115            80               91              93   \n",
       "Diane                  96           103               82              85   \n",
       "Greg                   90            94               83              99   \n",
       "Jim                   103           106              110              81   \n",
       "Joe                   102            87               75              91   \n",
       "Martha                102            83               98              99   \n",
       "Stewart                98            80               92              82   \n",
       "\n",
       "                                     \n",
       "Topic   Streaming Technical Support  \n",
       "Agent                                \n",
       "Becky         105                90  \n",
       "Dan           101               106  \n",
       "Diane          96                86  \n",
       "Greg          100                79  \n",
       "Jim            91                97  \n",
       "Joe            92                91  \n",
       "Martha         87                94  \n",
       "Stewart        77                93  "
      ]
     },
     "execution_count": 92,
     "metadata": {},
     "output_type": "execute_result"
    }
   ],
   "source": [
    "import numpy as np\n",
    "data.pivot_table(index = ['Agent'], columns = ['Topic'], values = ['Answered (Y/N)','Resolved'], aggfunc = np.sum)"
   ]
  },
  {
   "cell_type": "code",
   "execution_count": null,
   "metadata": {},
   "outputs": [],
   "source": []
  }
 ],
 "metadata": {
  "kernelspec": {
   "display_name": "Python 3",
   "language": "python",
   "name": "python3"
  },
  "language_info": {
   "codemirror_mode": {
    "name": "ipython",
    "version": 3
   },
   "file_extension": ".py",
   "mimetype": "text/x-python",
   "name": "python",
   "nbconvert_exporter": "python",
   "pygments_lexer": "ipython3",
   "version": "3.13.1"
  }
 },
 "nbformat": 4,
 "nbformat_minor": 2
}
